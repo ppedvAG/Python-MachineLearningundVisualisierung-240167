{
 "cells": [
  {
   "cell_type": "markdown",
   "id": "e1f5e1db-b659-47a9-847b-744ad7f25af5",
   "metadata": {},
   "source": [
    "## Numpy\n",
    "\n",
    "Ermöglicht uns X-Dimensionale Körper zu erstellen, die mit C basiert Zahlen gefüllt sind\n",
    "\n",
    "Muss über pip installiert und importiert werden"
   ]
  },
  {
   "cell_type": "code",
   "execution_count": 1,
   "id": "ebae2697-14ca-4976-b36e-72d603e09bf6",
   "metadata": {},
   "outputs": [],
   "source": [
    "import numpy as np"
   ]
  },
  {
   "cell_type": "markdown",
   "id": "b7457466-9f07-44ae-88cf-b34b923c16a5",
   "metadata": {},
   "source": [
    "## Arrays\n",
    "\n",
    "Numpy Arrays aus einer Python Liste erzeugen"
   ]
  },
  {
   "cell_type": "code",
   "execution_count": 2,
   "id": "aa39702e-9bd6-4971-b94e-7339f6d02cba",
   "metadata": {},
   "outputs": [
    {
     "data": {
      "text/plain": [
       "array([1, 2, 3, 4])"
      ]
     },
     "execution_count": 2,
     "metadata": {},
     "output_type": "execute_result"
    }
   ],
   "source": [
    "np.array([1, 2, 3, 4])"
   ]
  },
  {
   "cell_type": "code",
   "execution_count": 3,
   "id": "fe49703d-792b-45a5-b082-72f7310e8622",
   "metadata": {},
   "outputs": [],
   "source": [
    "a = np.array([1, 2, 3, 4])"
   ]
  },
  {
   "cell_type": "code",
   "execution_count": 4,
   "id": "67151b15-3966-49e6-85ee-028334cb3d39",
   "metadata": {},
   "outputs": [
    {
     "data": {
      "text/plain": [
       "array([1, 2, 3, 4])"
      ]
     },
     "execution_count": 4,
     "metadata": {},
     "output_type": "execute_result"
    }
   ],
   "source": [
    "a"
   ]
  },
  {
   "cell_type": "code",
   "execution_count": 5,
   "id": "ad3162c5-20e7-4cc0-9e30-8d23110eeb4b",
   "metadata": {},
   "outputs": [
    {
     "data": {
      "text/plain": [
       "1"
      ]
     },
     "execution_count": 5,
     "metadata": {},
     "output_type": "execute_result"
    }
   ],
   "source": [
    "a[0]"
   ]
  },
  {
   "cell_type": "code",
   "execution_count": 6,
   "id": "62b01984-440a-4764-b5ba-860d1f0b37bd",
   "metadata": {},
   "outputs": [
    {
     "data": {
      "text/plain": [
       "4"
      ]
     },
     "execution_count": 6,
     "metadata": {},
     "output_type": "execute_result"
    }
   ],
   "source": [
    "a[3]"
   ]
  },
  {
   "cell_type": "code",
   "execution_count": 7,
   "id": "b039ceab-24de-4d55-bfed-afd8435fb3f0",
   "metadata": {},
   "outputs": [],
   "source": [
    "b = np.array([0.4, 8.2, 8.42, 18.38])"
   ]
  },
  {
   "cell_type": "code",
   "execution_count": 8,
   "id": "d0fae5f1-e06b-40d6-9615-aeb81b6325bb",
   "metadata": {},
   "outputs": [
    {
     "data": {
      "text/plain": [
       "array([ 0.4 ,  8.2 ,  8.42, 18.38])"
      ]
     },
     "execution_count": 8,
     "metadata": {},
     "output_type": "execute_result"
    }
   ],
   "source": [
    "b"
   ]
  },
  {
   "cell_type": "code",
   "execution_count": 9,
   "id": "135b130c-ed4a-437d-a257-64dfe610e467",
   "metadata": {},
   "outputs": [
    {
     "data": {
      "text/plain": [
       "dtype('int32')"
      ]
     },
     "execution_count": 9,
     "metadata": {},
     "output_type": "execute_result"
    }
   ],
   "source": [
    "a.dtype"
   ]
  },
  {
   "cell_type": "code",
   "execution_count": 10,
   "id": "6ab05797-631b-4508-9efe-00dc9ba3fb0f",
   "metadata": {},
   "outputs": [
    {
     "data": {
      "text/plain": [
       "dtype('float64')"
      ]
     },
     "execution_count": 10,
     "metadata": {},
     "output_type": "execute_result"
    }
   ],
   "source": [
    "b.dtype"
   ]
  },
  {
   "cell_type": "markdown",
   "id": "dbda467e-6fff-4dd4-ab84-4f0fa911923c",
   "metadata": {},
   "source": [
    "a: int32, b: float64\n",
    "\n",
    "Nachdem Numpy in C geschrieben ist, sind effiziente Typen möglich"
   ]
  },
  {
   "cell_type": "code",
   "execution_count": 11,
   "id": "73f71de9-9c8a-4084-8702-43a6e51e5b90",
   "metadata": {},
   "outputs": [],
   "source": [
    "c = np.array([1, 2, 3, 4], dtype=np.int8)"
   ]
  },
  {
   "cell_type": "code",
   "execution_count": 12,
   "id": "80cd6a6f-456d-42d4-b0ab-f6b308a94e6e",
   "metadata": {},
   "outputs": [
    {
     "data": {
      "text/plain": [
       "array([1, 2, 3, 4], dtype=int8)"
      ]
     },
     "execution_count": 12,
     "metadata": {},
     "output_type": "execute_result"
    }
   ],
   "source": [
    "c"
   ]
  },
  {
   "cell_type": "code",
   "execution_count": 13,
   "id": "37738583-b99a-4814-9791-f8e8a4fc89cd",
   "metadata": {},
   "outputs": [],
   "source": [
    "d = np.array([1, 2, 3, 4], dtype=np.float16)"
   ]
  },
  {
   "cell_type": "code",
   "execution_count": 14,
   "id": "be8a154c-8f51-453d-bf6b-dd75c8ec4548",
   "metadata": {},
   "outputs": [
    {
     "data": {
      "text/plain": [
       "array([1., 2., 3., 4.], dtype=float16)"
      ]
     },
     "execution_count": 14,
     "metadata": {},
     "output_type": "execute_result"
    }
   ],
   "source": [
    "d"
   ]
  },
  {
   "cell_type": "code",
   "execution_count": 15,
   "id": "6ef0b8c1-4ef6-4eec-a75c-4d10c7024b7c",
   "metadata": {},
   "outputs": [
    {
     "data": {
      "text/plain": [
       "2"
      ]
     },
     "execution_count": 15,
     "metadata": {},
     "output_type": "execute_result"
    }
   ],
   "source": [
    "d.itemsize"
   ]
  },
  {
   "cell_type": "markdown",
   "id": "766fbb0c-0a08-4a16-ad51-ca4d2356a05a",
   "metadata": {},
   "source": [
    "a: 4 Byte * 4 = 16 Byte\n",
    "\n",
    "b: 8 Byte * 4 = 32 Byte\n",
    "\n",
    "c: 1 Byte * 4 = 4 Byte statt 16 Byte\n",
    "\n",
    "d: 2 Byte * 4 = 8 Byte statt 32 Byte"
   ]
  },
  {
   "cell_type": "markdown",
   "id": "7f92a836-4592-47c3-bd90-551413e41177",
   "metadata": {},
   "source": [
    "## Matrizen"
   ]
  },
  {
   "cell_type": "markdown",
   "id": "49318d4c-6ec3-46af-b583-ee9b5096da77",
   "metadata": {},
   "source": [
    "Matrizen werden immer für Datenanalyse benötigt, z.b. Tabellen (DB)"
   ]
  },
  {
   "cell_type": "code",
   "execution_count": 16,
   "id": "6a500959-f6f1-4bdc-a63a-49ed3ef06794",
   "metadata": {},
   "outputs": [],
   "source": [
    "e = np.array(\n",
    "    [\n",
    "        [1, 2, 3],\n",
    "        [4, 5, 6],\n",
    "        [7, 8, 9]\n",
    "    ])"
   ]
  },
  {
   "cell_type": "markdown",
   "id": "12f5d982-041b-4752-85f1-ba6377bed626",
   "metadata": {},
   "source": [
    "Hier haben wir ein Array von Arrays"
   ]
  },
  {
   "cell_type": "code",
   "execution_count": 17,
   "id": "686ece1c-d4e0-4fed-b56e-68e6b1f2f785",
   "metadata": {},
   "outputs": [
    {
     "data": {
      "text/plain": [
       "array([[1, 2, 3],\n",
       "       [4, 5, 6],\n",
       "       [7, 8, 9]])"
      ]
     },
     "execution_count": 17,
     "metadata": {},
     "output_type": "execute_result"
    }
   ],
   "source": [
    "e"
   ]
  },
  {
   "cell_type": "code",
   "execution_count": 18,
   "id": "185d06ee-5f7f-4615-9c63-48ba283a1284",
   "metadata": {},
   "outputs": [
    {
     "data": {
      "text/plain": [
       "(3, 3)"
      ]
     },
     "execution_count": 18,
     "metadata": {},
     "output_type": "execute_result"
    }
   ],
   "source": [
    "e.shape"
   ]
  },
  {
   "cell_type": "code",
   "execution_count": 19,
   "id": "6e7ecdf9-85b2-4b85-b9d6-f5dc4b5c051f",
   "metadata": {},
   "outputs": [
    {
     "data": {
      "text/plain": [
       "9"
      ]
     },
     "execution_count": 19,
     "metadata": {},
     "output_type": "execute_result"
    }
   ],
   "source": [
    "e.size"
   ]
  },
  {
   "cell_type": "code",
   "execution_count": 20,
   "id": "3203a7ac-1110-467f-9504-555ce36cd850",
   "metadata": {},
   "outputs": [
    {
     "data": {
      "text/plain": [
       "2"
      ]
     },
     "execution_count": 20,
     "metadata": {},
     "output_type": "execute_result"
    }
   ],
   "source": [
    "e.ndim"
   ]
  },
  {
   "cell_type": "markdown",
   "id": "dad95657-f7fe-4c75-9829-bc5926f51ad3",
   "metadata": {},
   "source": [
    "Matrix angreifen"
   ]
  },
  {
   "cell_type": "code",
   "execution_count": 21,
   "id": "c3d2164a-28df-4246-853b-cefd878c9481",
   "metadata": {},
   "outputs": [
    {
     "data": {
      "text/plain": [
       "array([1, 2, 3])"
      ]
     },
     "execution_count": 21,
     "metadata": {},
     "output_type": "execute_result"
    }
   ],
   "source": [
    "e[0]"
   ]
  },
  {
   "cell_type": "code",
   "execution_count": 22,
   "id": "43b4dc41-db6b-477a-839a-dd39e1bbf921",
   "metadata": {},
   "outputs": [
    {
     "data": {
      "text/plain": [
       "2"
      ]
     },
     "execution_count": 22,
     "metadata": {},
     "output_type": "execute_result"
    }
   ],
   "source": [
    "e[0][1]"
   ]
  },
  {
   "cell_type": "code",
   "execution_count": 23,
   "id": "4ac38386-6247-43ce-a80f-43a008c7640e",
   "metadata": {},
   "outputs": [
    {
     "data": {
      "text/plain": [
       "2"
      ]
     },
     "execution_count": 23,
     "metadata": {},
     "output_type": "execute_result"
    }
   ],
   "source": [
    "e[0, 1]"
   ]
  },
  {
   "cell_type": "markdown",
   "id": "951a627a-3517-4395-8a6b-ef1c3b9631ef",
   "metadata": {},
   "source": [
    "## Slicing von Matrizen\n",
    "\n",
    "Bereiche von Matrizen entnehmen mit Doppelpunkt"
   ]
  },
  {
   "cell_type": "code",
   "execution_count": 24,
   "id": "8016d610-160b-4236-87a5-532448c5d3fd",
   "metadata": {
    "scrolled": true
   },
   "outputs": [
    {
     "data": {
      "text/plain": [
       "array([[1, 2, 3],\n",
       "       [4, 5, 6],\n",
       "       [7, 8, 9]])"
      ]
     },
     "execution_count": 24,
     "metadata": {},
     "output_type": "execute_result"
    }
   ],
   "source": [
    "e"
   ]
  },
  {
   "cell_type": "code",
   "execution_count": 25,
   "id": "aa413ca1-4df4-46be-83c0-08af617769bf",
   "metadata": {},
   "outputs": [
    {
     "data": {
      "text/plain": [
       "array([4, 5])"
      ]
     },
     "execution_count": 25,
     "metadata": {},
     "output_type": "execute_result"
    }
   ],
   "source": [
    "e[1, 0:2]  # Zeile 1, Elemente 0 bis 2 (exklusiv)"
   ]
  },
  {
   "cell_type": "code",
   "execution_count": 26,
   "id": "1491e45b-9ad7-4f43-8eb9-009fdfc7e216",
   "metadata": {},
   "outputs": [
    {
     "data": {
      "text/plain": [
       "array([[4, 5],\n",
       "       [7, 8]])"
      ]
     },
     "execution_count": 26,
     "metadata": {},
     "output_type": "execute_result"
    }
   ],
   "source": [
    "e[1:, 0:2]  # Es muss keine Grenze angegeben werden bei Slicing"
   ]
  },
  {
   "cell_type": "code",
   "execution_count": 27,
   "id": "b0c88467-119c-4412-871f-185f09dec9bf",
   "metadata": {},
   "outputs": [
    {
     "data": {
      "text/plain": [
       "array([[1, 2, 3],\n",
       "       [4, 5, 6]])"
      ]
     },
     "execution_count": 27,
     "metadata": {},
     "output_type": "execute_result"
    }
   ],
   "source": [
    "e[:2]"
   ]
  },
  {
   "cell_type": "code",
   "execution_count": 28,
   "id": "4ea1939d-8c27-4826-9ca9-e0369213ff81",
   "metadata": {},
   "outputs": [
    {
     "data": {
      "text/plain": [
       "array([3, 6, 9])"
      ]
     },
     "execution_count": 28,
     "metadata": {},
     "output_type": "execute_result"
    }
   ],
   "source": [
    "e[:, 2]  # : alles nehmen (vom Anfang bis zum Ende)"
   ]
  },
  {
   "cell_type": "code",
   "execution_count": 29,
   "id": "1ffbbb58-067d-41cf-a463-40cb42ee6033",
   "metadata": {},
   "outputs": [
    {
     "data": {
      "text/plain": [
       "array([[2, 3],\n",
       "       [5, 6],\n",
       "       [8, 9]])"
      ]
     },
     "execution_count": 29,
     "metadata": {},
     "output_type": "execute_result"
    }
   ],
   "source": [
    "e[:, 1:]"
   ]
  },
  {
   "cell_type": "markdown",
   "id": "7ff374c4-2663-4a66-a70a-446bf54b8a74",
   "metadata": {},
   "source": [
    "## Array verändern"
   ]
  },
  {
   "cell_type": "code",
   "execution_count": 30,
   "id": "4db7fc3e-926a-4ac7-98e8-d72e279bc542",
   "metadata": {},
   "outputs": [],
   "source": [
    "e[1, 1] = 33"
   ]
  },
  {
   "cell_type": "code",
   "execution_count": 31,
   "id": "bbdb2c74-c19d-4eed-860e-c2e07c79c296",
   "metadata": {},
   "outputs": [
    {
     "data": {
      "text/plain": [
       "array([[ 1,  2,  3],\n",
       "       [ 4, 33,  6],\n",
       "       [ 7,  8,  9]])"
      ]
     },
     "execution_count": 31,
     "metadata": {},
     "output_type": "execute_result"
    }
   ],
   "source": [
    "e"
   ]
  },
  {
   "cell_type": "code",
   "execution_count": 32,
   "id": "7cd10f7d-54ca-406e-b593-854b58e0d869",
   "metadata": {},
   "outputs": [],
   "source": [
    "e[0] = 10"
   ]
  },
  {
   "cell_type": "code",
   "execution_count": 33,
   "id": "c5470e4a-f56b-46b2-bd17-c29410e3febc",
   "metadata": {},
   "outputs": [
    {
     "data": {
      "text/plain": [
       "array([[10, 10, 10],\n",
       "       [ 4, 33,  6],\n",
       "       [ 7,  8,  9]])"
      ]
     },
     "execution_count": 33,
     "metadata": {},
     "output_type": "execute_result"
    }
   ],
   "source": [
    "e"
   ]
  },
  {
   "cell_type": "code",
   "execution_count": 34,
   "id": "ca480283-4ab1-47c9-90b4-d2561fb46f23",
   "metadata": {},
   "outputs": [],
   "source": [
    "e[:, 2] = 20"
   ]
  },
  {
   "cell_type": "code",
   "execution_count": 35,
   "id": "fafe52f7-bc8d-4351-bd34-49a8afc085b7",
   "metadata": {},
   "outputs": [
    {
     "data": {
      "text/plain": [
       "array([[10, 10, 20],\n",
       "       [ 4, 33, 20],\n",
       "       [ 7,  8, 20]])"
      ]
     },
     "execution_count": 35,
     "metadata": {},
     "output_type": "execute_result"
    }
   ],
   "source": [
    "e"
   ]
  },
  {
   "cell_type": "markdown",
   "id": "4c687887-2494-4f67-9eb1-7b0ecff53282",
   "metadata": {},
   "source": [
    "## Einfache Analyse von Arrays und Matrizen"
   ]
  },
  {
   "cell_type": "code",
   "execution_count": 36,
   "id": "9207d8c4-0ce3-4a64-8c25-cddce9d8b8be",
   "metadata": {},
   "outputs": [
    {
     "data": {
      "text/plain": [
       "10"
      ]
     },
     "execution_count": 36,
     "metadata": {},
     "output_type": "execute_result"
    }
   ],
   "source": [
    "a.sum()"
   ]
  },
  {
   "cell_type": "code",
   "execution_count": 37,
   "id": "a4ec113c-6133-4aa5-a793-f8d0cd9b0937",
   "metadata": {},
   "outputs": [
    {
     "data": {
      "text/plain": [
       "2.5"
      ]
     },
     "execution_count": 37,
     "metadata": {},
     "output_type": "execute_result"
    }
   ],
   "source": [
    "a.mean()"
   ]
  },
  {
   "cell_type": "code",
   "execution_count": 38,
   "id": "0a8e27ee-767a-43a7-a2c6-d7468383e890",
   "metadata": {},
   "outputs": [
    {
     "data": {
      "text/plain": [
       "1.118033988749895"
      ]
     },
     "execution_count": 38,
     "metadata": {},
     "output_type": "execute_result"
    }
   ],
   "source": [
    "a.std()"
   ]
  },
  {
   "cell_type": "code",
   "execution_count": 39,
   "id": "53f8e946-cee2-459d-bf17-4b049f5651bf",
   "metadata": {},
   "outputs": [
    {
     "data": {
      "text/plain": [
       "1.25"
      ]
     },
     "execution_count": 39,
     "metadata": {},
     "output_type": "execute_result"
    }
   ],
   "source": [
    "a.var()"
   ]
  },
  {
   "cell_type": "code",
   "execution_count": 40,
   "id": "8ccda7e6-578e-4d8a-be58-2d71b57566f0",
   "metadata": {},
   "outputs": [
    {
     "data": {
      "text/plain": [
       "132"
      ]
     },
     "execution_count": 40,
     "metadata": {},
     "output_type": "execute_result"
    }
   ],
   "source": [
    "e.sum()"
   ]
  },
  {
   "cell_type": "code",
   "execution_count": 41,
   "id": "ba7904fb-156d-4d43-a2e9-8b0daa58875f",
   "metadata": {},
   "outputs": [
    {
     "data": {
      "text/plain": [
       "14.666666666666666"
      ]
     },
     "execution_count": 41,
     "metadata": {},
     "output_type": "execute_result"
    }
   ],
   "source": [
    "e.mean()"
   ]
  },
  {
   "cell_type": "markdown",
   "id": "2ba47cb9-19a6-47e1-bdc1-db8ae5d291b1",
   "metadata": {},
   "source": [
    "Diese Funktionen können auch Achsenweise ausgeführt werden"
   ]
  },
  {
   "cell_type": "code",
   "execution_count": 42,
   "id": "acd9a5ae-eac0-4ea3-bffc-92943b6e63eb",
   "metadata": {},
   "outputs": [
    {
     "data": {
      "text/plain": [
       "19.0"
      ]
     },
     "execution_count": 42,
     "metadata": {},
     "output_type": "execute_result"
    }
   ],
   "source": [
    "e[1].mean()"
   ]
  },
  {
   "cell_type": "code",
   "execution_count": 43,
   "id": "2d864dd6-344d-4ec4-9a32-f42ea9c88538",
   "metadata": {},
   "outputs": [
    {
     "data": {
      "text/plain": [
       "array([ 7., 17., 20.])"
      ]
     },
     "execution_count": 43,
     "metadata": {},
     "output_type": "execute_result"
    }
   ],
   "source": [
    "e.mean(axis=0)"
   ]
  },
  {
   "cell_type": "code",
   "execution_count": 44,
   "id": "bce39349-bed8-4e6b-a22b-5500bb21434d",
   "metadata": {},
   "outputs": [
    {
     "data": {
      "text/plain": [
       "array([[10, 10, 20],\n",
       "       [ 4, 33, 20],\n",
       "       [ 7,  8, 20]])"
      ]
     },
     "execution_count": 44,
     "metadata": {},
     "output_type": "execute_result"
    }
   ],
   "source": [
    "e"
   ]
  },
  {
   "cell_type": "code",
   "execution_count": 45,
   "id": "9b0d8132-a2bc-487a-a85a-d6265d97e8aa",
   "metadata": {},
   "outputs": [
    {
     "data": {
      "text/plain": [
       "array([13.33333333, 19.        , 11.66666667])"
      ]
     },
     "execution_count": 45,
     "metadata": {},
     "output_type": "execute_result"
    }
   ],
   "source": [
    "e.mean(axis=1)"
   ]
  },
  {
   "cell_type": "markdown",
   "id": "2a1578e7-ab98-4944-959a-16a010db1936",
   "metadata": {},
   "source": [
    "## Vektorisierung\n",
    "\n",
    "Ein gesamtes Array mit einer Operation verarbeiten"
   ]
  },
  {
   "cell_type": "code",
   "execution_count": 46,
   "id": "4aa68724-2b44-47e1-8224-3eb20ffaa4ec",
   "metadata": {},
   "outputs": [
    {
     "data": {
      "text/plain": [
       "array([[10, 10, 20],\n",
       "       [ 4, 33, 20],\n",
       "       [ 7,  8, 20]])"
      ]
     },
     "execution_count": 46,
     "metadata": {},
     "output_type": "execute_result"
    }
   ],
   "source": [
    "e"
   ]
  },
  {
   "cell_type": "code",
   "execution_count": 47,
   "id": "abf09865-fae8-4921-8085-b80215642445",
   "metadata": {},
   "outputs": [
    {
     "data": {
      "text/plain": [
       "array([[20, 20, 30],\n",
       "       [14, 43, 30],\n",
       "       [17, 18, 30]])"
      ]
     },
     "execution_count": 47,
     "metadata": {},
     "output_type": "execute_result"
    }
   ],
   "source": [
    "e + 10  # Berechnet hier nur die Summe"
   ]
  },
  {
   "cell_type": "code",
   "execution_count": 48,
   "id": "61b678c7-e9b5-40cf-9453-25d2537680aa",
   "metadata": {},
   "outputs": [
    {
     "data": {
      "text/plain": [
       "array([[10, 10, 20],\n",
       "       [ 4, 33, 20],\n",
       "       [ 7,  8, 20]])"
      ]
     },
     "execution_count": 48,
     "metadata": {},
     "output_type": "execute_result"
    }
   ],
   "source": [
    "e"
   ]
  },
  {
   "cell_type": "code",
   "execution_count": 49,
   "id": "2b777245-d0f8-425d-8bbf-5880eecdd3db",
   "metadata": {},
   "outputs": [],
   "source": [
    "e += 10  # Hier wird die Matrix verändert"
   ]
  },
  {
   "cell_type": "code",
   "execution_count": 50,
   "id": "6b57d496-70f8-4a00-bfa1-227932a27fcb",
   "metadata": {},
   "outputs": [
    {
     "data": {
      "text/plain": [
       "array([[20, 20, 30],\n",
       "       [14, 43, 30],\n",
       "       [17, 18, 30]])"
      ]
     },
     "execution_count": 50,
     "metadata": {},
     "output_type": "execute_result"
    }
   ],
   "source": [
    "e"
   ]
  },
  {
   "cell_type": "code",
   "execution_count": 51,
   "id": "13c8049a-ad5c-4d77-8721-84264492b160",
   "metadata": {},
   "outputs": [
    {
     "data": {
      "text/plain": [
       "array([[40, 40, 60],\n",
       "       [28, 86, 60],\n",
       "       [34, 36, 60]])"
      ]
     },
     "execution_count": 51,
     "metadata": {},
     "output_type": "execute_result"
    }
   ],
   "source": [
    "e + e  # Funktioniert auch mit 2 Arrays"
   ]
  },
  {
   "cell_type": "markdown",
   "id": "9194814c-7e2d-4828-ad69-fb9865fa206e",
   "metadata": {},
   "source": [
    "## Vektorisierung mit Booleschen Operatoren"
   ]
  },
  {
   "cell_type": "code",
   "execution_count": 52,
   "id": "9d01ba50-350d-4b1c-8628-cfac104f2923",
   "metadata": {},
   "outputs": [
    {
     "data": {
      "text/plain": [
       "array([[False, False, False],\n",
       "       [False, False, False],\n",
       "       [False, False, False]])"
      ]
     },
     "execution_count": 52,
     "metadata": {},
     "output_type": "execute_result"
    }
   ],
   "source": [
    "e > 50"
   ]
  },
  {
   "cell_type": "markdown",
   "id": "d427cfd7-9a1d-48fd-bfc6-96542ed3bfbc",
   "metadata": {},
   "source": [
    "Diese Boolesche Maske kann wieder auf das Array angewandt werden"
   ]
  },
  {
   "cell_type": "code",
   "execution_count": 53,
   "id": "5129bc86-e10e-4ad5-83e7-26936b53e244",
   "metadata": {},
   "outputs": [
    {
     "data": {
      "text/plain": [
       "array([], dtype=int32)"
      ]
     },
     "execution_count": 53,
     "metadata": {},
     "output_type": "execute_result"
    }
   ],
   "source": [
    "e[e > 50]  # Hier wurde jetzt eine Filterung gemacht"
   ]
  },
  {
   "cell_type": "markdown",
   "id": "29318d2f-a55b-49a1-8236-faeab8c5c775",
   "metadata": {},
   "source": [
    "Welche Werte sind überdurchschnittlich?"
   ]
  },
  {
   "cell_type": "code",
   "execution_count": 54,
   "id": "3d8c3283-55c2-40ee-b578-8e28e44bf533",
   "metadata": {},
   "outputs": [
    {
     "data": {
      "text/plain": [
       "24.666666666666668"
      ]
     },
     "execution_count": 54,
     "metadata": {},
     "output_type": "execute_result"
    }
   ],
   "source": [
    "e.mean()"
   ]
  },
  {
   "cell_type": "code",
   "execution_count": 55,
   "id": "dbfa34d6-ee2c-4301-8844-9e80f7048a56",
   "metadata": {},
   "outputs": [
    {
     "data": {
      "text/plain": [
       "array([[False, False,  True],\n",
       "       [False,  True,  True],\n",
       "       [False, False,  True]])"
      ]
     },
     "execution_count": 55,
     "metadata": {},
     "output_type": "execute_result"
    }
   ],
   "source": [
    "e > e.mean()"
   ]
  },
  {
   "cell_type": "code",
   "execution_count": 56,
   "id": "92255e8c-9a34-4178-b85b-8fee6ef77b0b",
   "metadata": {},
   "outputs": [
    {
     "data": {
      "text/plain": [
       "array([30, 43, 30, 30])"
      ]
     },
     "execution_count": 56,
     "metadata": {},
     "output_type": "execute_result"
    }
   ],
   "source": [
    "e[e > e.mean()]"
   ]
  },
  {
   "cell_type": "code",
   "execution_count": 57,
   "id": "b9ef47f5-124d-44ce-ae34-43a9b82e16d5",
   "metadata": {},
   "outputs": [
    {
     "data": {
      "text/plain": [
       "array([[20, 20, 30],\n",
       "       [14, 43, 30],\n",
       "       [17, 18, 30]])"
      ]
     },
     "execution_count": 57,
     "metadata": {},
     "output_type": "execute_result"
    }
   ],
   "source": [
    "e"
   ]
  },
  {
   "cell_type": "code",
   "execution_count": 58,
   "id": "8a41e7a9-ee3a-4140-a6cd-6f4f27abc3c6",
   "metadata": {},
   "outputs": [
    {
     "data": {
      "text/plain": [
       "array([20, 20, 14, 17, 18])"
      ]
     },
     "execution_count": 58,
     "metadata": {},
     "output_type": "execute_result"
    }
   ],
   "source": [
    "e[e < e.mean()]"
   ]
  },
  {
   "cell_type": "code",
   "execution_count": 59,
   "id": "95205397-518c-471d-a0a3-969f64ea8025",
   "metadata": {},
   "outputs": [
    {
     "data": {
      "text/plain": [
       "array([20, 20, 14, 17, 18])"
      ]
     },
     "execution_count": 59,
     "metadata": {},
     "output_type": "execute_result"
    }
   ],
   "source": [
    "e[~(e > e.mean())]  # Bedingungen invertieren mit ~ (statt !)"
   ]
  },
  {
   "cell_type": "code",
   "execution_count": 60,
   "id": "d2e736f5-7775-465b-90cd-53cc5ed0db80",
   "metadata": {},
   "outputs": [],
   "source": [
    "x = np.random.randint(100, size=(10, 10))"
   ]
  },
  {
   "cell_type": "code",
   "execution_count": 61,
   "id": "df040f96-6921-4380-8673-4694a6627f93",
   "metadata": {},
   "outputs": [
    {
     "data": {
      "text/plain": [
       "array([[29, 92, 86,  6, 89, 13, 12, 65, 16, 75],\n",
       "       [31, 87, 51, 45, 28, 94, 47, 27, 45, 18],\n",
       "       [76, 78, 82, 19, 69, 77, 55, 80, 97, 69],\n",
       "       [11, 65, 25, 57, 97, 46, 95, 17, 13,  8],\n",
       "       [18, 77, 21, 53, 91, 48, 91, 18, 55, 34],\n",
       "       [87, 59, 92,  8, 83, 78, 59, 89, 24, 21],\n",
       "       [37, 83, 79, 53, 63, 76,  9, 96, 64, 69],\n",
       "       [51, 65,  4, 21, 88, 67, 73, 47, 82, 54],\n",
       "       [22, 59, 33, 67, 61, 50, 10,  8, 16, 94],\n",
       "       [40, 82,  1,  2, 11, 76, 75, 98, 53, 94]])"
      ]
     },
     "execution_count": 61,
     "metadata": {},
     "output_type": "execute_result"
    }
   ],
   "source": [
    "x"
   ]
  },
  {
   "cell_type": "code",
   "execution_count": 62,
   "id": "428eea4f-e177-4b0a-8f37-7c2a0bad2eb7",
   "metadata": {},
   "outputs": [
    {
     "data": {
      "text/plain": [
       "53.31"
      ]
     },
     "execution_count": 62,
     "metadata": {},
     "output_type": "execute_result"
    }
   ],
   "source": [
    "x.mean()"
   ]
  },
  {
   "cell_type": "code",
   "execution_count": 63,
   "id": "31135dfa-ab9a-41e5-bca2-88e33121496d",
   "metadata": {},
   "outputs": [
    {
     "data": {
      "text/plain": [
       "array([92, 86, 89, 65, 75, 87, 94, 76, 78, 82, 69, 77, 55, 80, 97, 69, 65,\n",
       "       57, 97, 95, 77, 91, 91, 55, 87, 59, 92, 83, 78, 59, 89, 83, 79, 63,\n",
       "       76, 96, 64, 69, 65, 88, 67, 73, 82, 54, 59, 67, 61, 94, 82, 76, 75,\n",
       "       98, 94])"
      ]
     },
     "execution_count": 63,
     "metadata": {},
     "output_type": "execute_result"
    }
   ],
   "source": [
    "x[x > x.mean()]"
   ]
  },
  {
   "cell_type": "code",
   "execution_count": 64,
   "id": "727aac70-e87c-4ff4-808a-02a87406358b",
   "metadata": {},
   "outputs": [
    {
     "data": {
      "text/plain": [
       "53"
      ]
     },
     "execution_count": 64,
     "metadata": {},
     "output_type": "execute_result"
    }
   ],
   "source": [
    "len(x[x > x.mean()])"
   ]
  },
  {
   "cell_type": "markdown",
   "id": "aad7ffec-f913-4c4a-a363-b1639c2ea7ef",
   "metadata": {},
   "source": [
    "## Performance"
   ]
  },
  {
   "cell_type": "code",
   "execution_count": 65,
   "id": "fb4355a3-c592-48a1-9c8a-61ee2e406793",
   "metadata": {},
   "outputs": [],
   "source": [
    "import sys"
   ]
  },
  {
   "cell_type": "code",
   "execution_count": 66,
   "id": "2114310f-c722-4645-93b1-bff6a21aead2",
   "metadata": {},
   "outputs": [],
   "source": [
    "x = 5  # Normaler Python int"
   ]
  },
  {
   "cell_type": "code",
   "execution_count": 67,
   "id": "ebb651f6-959c-4468-a6a6-ae11514cd0d8",
   "metadata": {},
   "outputs": [
    {
     "data": {
      "text/plain": [
       "28"
      ]
     },
     "execution_count": 67,
     "metadata": {},
     "output_type": "execute_result"
    }
   ],
   "source": [
    "sys.getsizeof(x)  # 28 Byte für eine normale Python Zahl"
   ]
  },
  {
   "cell_type": "code",
   "execution_count": 68,
   "id": "50d0a62c-bea2-492a-884f-42dd606cef9e",
   "metadata": {},
   "outputs": [
    {
     "data": {
      "text/plain": [
       "4"
      ]
     },
     "execution_count": 68,
     "metadata": {},
     "output_type": "execute_result"
    }
   ],
   "source": [
    "a.itemsize"
   ]
  },
  {
   "cell_type": "markdown",
   "id": "ed32300e-31c0-4827-8306-bb4719a70b23",
   "metadata": {},
   "source": [
    "## Listenvergleich"
   ]
  },
  {
   "cell_type": "code",
   "execution_count": 77,
   "id": "448dce62-2b9a-48ad-997b-e4b746c101f3",
   "metadata": {},
   "outputs": [],
   "source": [
    "pList = list(range(10_000_000))"
   ]
  },
  {
   "cell_type": "code",
   "execution_count": 82,
   "id": "fd92b3e8-01eb-4e0a-ae09-7d533d28e98e",
   "metadata": {},
   "outputs": [],
   "source": [
    "pArray = np.array(range(10_000_000), dtype=np.int64)"
   ]
  },
  {
   "cell_type": "code",
   "execution_count": 83,
   "id": "e66a769b-9456-4ef0-a035-7774209ca74b",
   "metadata": {},
   "outputs": [
    {
     "name": "stdout",
     "output_type": "stream",
     "text": [
      "CPU times: total: 2.45 s\n",
      "Wall time: 2.47 s\n"
     ]
    },
    {
     "data": {
      "text/plain": [
       "333333283333335000000"
      ]
     },
     "execution_count": 83,
     "metadata": {},
     "output_type": "execute_result"
    }
   ],
   "source": [
    "%time sum([x ** 2 for x in pList])"
   ]
  },
  {
   "cell_type": "code",
   "execution_count": 84,
   "id": "4395800c-a1dc-441d-bf9d-6bb7d35b0934",
   "metadata": {},
   "outputs": [
    {
     "name": "stdout",
     "output_type": "stream",
     "text": [
      "CPU times: total: 31.2 ms\n",
      "Wall time: 27.1 ms\n"
     ]
    },
    {
     "data": {
      "text/plain": [
       "1291890006563070912"
      ]
     },
     "execution_count": 84,
     "metadata": {},
     "output_type": "execute_result"
    }
   ],
   "source": [
    "%time np.sum(pArray ** 2)"
   ]
  },
  {
   "cell_type": "markdown",
   "id": "e78a8bcd-35d0-457a-ab9a-1c9eeeb703b9",
   "metadata": {},
   "source": [
    "## Weitere Funktionen"
   ]
  },
  {
   "cell_type": "code",
   "execution_count": 85,
   "id": "6b17a5a8-2f75-4008-ad5c-127c038473ff",
   "metadata": {},
   "outputs": [
    {
     "data": {
      "text/plain": [
       "array([0, 1, 2, 3, 4, 5, 6, 7, 8, 9])"
      ]
     },
     "execution_count": 85,
     "metadata": {},
     "output_type": "execute_result"
    }
   ],
   "source": [
    "np.arange(0, 10)"
   ]
  },
  {
   "cell_type": "code",
   "execution_count": 86,
   "id": "f8031f4c-b0a1-400d-a092-9e3b4b6fb7d2",
   "metadata": {},
   "outputs": [
    {
     "data": {
      "text/plain": [
       "array([ 0,  1,  2,  3,  4,  5,  6,  7,  8,  9, 10, 11, 12, 13, 14, 15, 16,\n",
       "       17, 18, 19, 20, 21, 22, 23, 24, 25, 26, 27, 28, 29, 30, 31, 32, 33,\n",
       "       34, 35, 36, 37, 38, 39, 40, 41, 42, 43, 44, 45, 46, 47, 48, 49, 50,\n",
       "       51, 52, 53, 54, 55, 56, 57, 58, 59, 60, 61, 62, 63, 64, 65, 66, 67,\n",
       "       68, 69, 70, 71, 72, 73, 74, 75, 76, 77, 78, 79, 80, 81, 82, 83, 84,\n",
       "       85, 86, 87, 88, 89, 90, 91, 92, 93, 94, 95, 96, 97, 98, 99])"
      ]
     },
     "execution_count": 86,
     "metadata": {},
     "output_type": "execute_result"
    }
   ],
   "source": [
    "np.arange(0, 100)"
   ]
  },
  {
   "cell_type": "code",
   "execution_count": 87,
   "id": "e784814c-5080-4149-83db-af5ca5d5256b",
   "metadata": {},
   "outputs": [
    {
     "data": {
      "text/plain": [
       "array([ 0. ,  0.5,  1. ,  1.5,  2. ,  2.5,  3. ,  3.5,  4. ,  4.5,  5. ,\n",
       "        5.5,  6. ,  6.5,  7. ,  7.5,  8. ,  8.5,  9. ,  9.5, 10. , 10.5,\n",
       "       11. , 11.5, 12. , 12.5, 13. , 13.5, 14. , 14.5, 15. , 15.5, 16. ,\n",
       "       16.5, 17. , 17.5, 18. , 18.5, 19. , 19.5, 20. , 20.5, 21. , 21.5,\n",
       "       22. , 22.5, 23. , 23.5, 24. , 24.5, 25. , 25.5, 26. , 26.5, 27. ,\n",
       "       27.5, 28. , 28.5, 29. , 29.5, 30. , 30.5, 31. , 31.5, 32. , 32.5,\n",
       "       33. , 33.5, 34. , 34.5, 35. , 35.5, 36. , 36.5, 37. , 37.5, 38. ,\n",
       "       38.5, 39. , 39.5, 40. , 40.5, 41. , 41.5, 42. , 42.5, 43. , 43.5,\n",
       "       44. , 44.5, 45. , 45.5, 46. , 46.5, 47. , 47.5, 48. , 48.5, 49. ,\n",
       "       49.5, 50. , 50.5, 51. , 51.5, 52. , 52.5, 53. , 53.5, 54. , 54.5,\n",
       "       55. , 55.5, 56. , 56.5, 57. , 57.5, 58. , 58.5, 59. , 59.5, 60. ,\n",
       "       60.5, 61. , 61.5, 62. , 62.5, 63. , 63.5, 64. , 64.5, 65. , 65.5,\n",
       "       66. , 66.5, 67. , 67.5, 68. , 68.5, 69. , 69.5, 70. , 70.5, 71. ,\n",
       "       71.5, 72. , 72.5, 73. , 73.5, 74. , 74.5, 75. , 75.5, 76. , 76.5,\n",
       "       77. , 77.5, 78. , 78.5, 79. , 79.5, 80. , 80.5, 81. , 81.5, 82. ,\n",
       "       82.5, 83. , 83.5, 84. , 84.5, 85. , 85.5, 86. , 86.5, 87. , 87.5,\n",
       "       88. , 88.5, 89. , 89.5, 90. , 90.5, 91. , 91.5, 92. , 92.5, 93. ,\n",
       "       93.5, 94. , 94.5, 95. , 95.5, 96. , 96.5, 97. , 97.5, 98. , 98.5,\n",
       "       99. , 99.5])"
      ]
     },
     "execution_count": 87,
     "metadata": {},
     "output_type": "execute_result"
    }
   ],
   "source": [
    "np.arange(0, 100, 0.5)"
   ]
  },
  {
   "cell_type": "code",
   "execution_count": 88,
   "id": "5bbbca2f-6f12-4528-be48-f02cd0661447",
   "metadata": {},
   "outputs": [
    {
     "data": {
      "text/plain": [
       "array([[ 0,  1,  2,  3,  4,  5,  6,  7,  8,  9],\n",
       "       [10, 11, 12, 13, 14, 15, 16, 17, 18, 19],\n",
       "       [20, 21, 22, 23, 24, 25, 26, 27, 28, 29],\n",
       "       [30, 31, 32, 33, 34, 35, 36, 37, 38, 39],\n",
       "       [40, 41, 42, 43, 44, 45, 46, 47, 48, 49],\n",
       "       [50, 51, 52, 53, 54, 55, 56, 57, 58, 59],\n",
       "       [60, 61, 62, 63, 64, 65, 66, 67, 68, 69],\n",
       "       [70, 71, 72, 73, 74, 75, 76, 77, 78, 79],\n",
       "       [80, 81, 82, 83, 84, 85, 86, 87, 88, 89],\n",
       "       [90, 91, 92, 93, 94, 95, 96, 97, 98, 99]])"
      ]
     },
     "execution_count": 88,
     "metadata": {},
     "output_type": "execute_result"
    }
   ],
   "source": [
    "np.arange(0, 100).reshape(10, 10)"
   ]
  },
  {
   "cell_type": "code",
   "execution_count": 89,
   "id": "eb08036d-caf5-47f5-98f4-f4f217943c15",
   "metadata": {},
   "outputs": [
    {
     "data": {
      "text/plain": [
       "array([[ 0,  1,  2,  3,  4,  5,  6,  7,  8,  9, 10, 11, 12, 13, 14, 15,\n",
       "        16, 17, 18, 19, 20, 21, 22, 23, 24, 25, 26, 27, 28, 29, 30, 31,\n",
       "        32],\n",
       "       [33, 34, 35, 36, 37, 38, 39, 40, 41, 42, 43, 44, 45, 46, 47, 48,\n",
       "        49, 50, 51, 52, 53, 54, 55, 56, 57, 58, 59, 60, 61, 62, 63, 64,\n",
       "        65],\n",
       "       [66, 67, 68, 69, 70, 71, 72, 73, 74, 75, 76, 77, 78, 79, 80, 81,\n",
       "        82, 83, 84, 85, 86, 87, 88, 89, 90, 91, 92, 93, 94, 95, 96, 97,\n",
       "        98]])"
      ]
     },
     "execution_count": 89,
     "metadata": {},
     "output_type": "execute_result"
    }
   ],
   "source": [
    "np.arange(0, 99).reshape(3, 33)"
   ]
  },
  {
   "cell_type": "code",
   "execution_count": 94,
   "id": "4a43a052-52fc-42fe-b4d9-0ea974dd74fd",
   "metadata": {},
   "outputs": [
    {
     "data": {
      "text/plain": [
       "array([ 0,  1,  2,  3,  4,  5,  6,  7,  8,  9, 10, 11, 12, 13, 14, 15, 16,\n",
       "       17, 18, 19, 20, 21, 22, 23, 24, 25, 26, 27, 28, 29, 30, 31, 32, 33,\n",
       "       34, 35, 36, 37, 38, 39, 40, 41, 42, 43, 44, 45, 46, 47, 48, 49, 50,\n",
       "       51, 52, 53, 54, 55, 56, 57, 58, 59, 60, 61, 62, 63, 64, 65, 66, 67,\n",
       "       68, 69, 70, 71, 72, 73, 74, 75, 76, 77, 78, 79, 80, 81, 82, 83, 84,\n",
       "       85, 86, 87, 88, 89, 90, 91, 92, 93, 94, 95, 96, 97, 98])"
      ]
     },
     "execution_count": 94,
     "metadata": {},
     "output_type": "execute_result"
    }
   ],
   "source": [
    "np.arange(0, 99).reshape(3, 33).reshape(-1)"
   ]
  },
  {
   "cell_type": "code",
   "execution_count": 95,
   "id": "eaf86d0a-3327-4ca9-86a6-64fdb6384808",
   "metadata": {},
   "outputs": [
    {
     "data": {
      "text/plain": [
       "array([0., 0., 0., 0., 0., 0., 0., 0., 0., 0.])"
      ]
     },
     "execution_count": 95,
     "metadata": {},
     "output_type": "execute_result"
    }
   ],
   "source": [
    "np.zeros(10)"
   ]
  },
  {
   "cell_type": "code",
   "execution_count": 96,
   "id": "9aadef9d-1a46-4345-94e5-ac36675f5a1a",
   "metadata": {},
   "outputs": [
    {
     "data": {
      "text/plain": [
       "array([1., 1., 1., 1., 1., 1., 1., 1., 1., 1.])"
      ]
     },
     "execution_count": 96,
     "metadata": {},
     "output_type": "execute_result"
    }
   ],
   "source": [
    "np.ones(10)"
   ]
  },
  {
   "cell_type": "code",
   "execution_count": 100,
   "id": "5dadcccf-9de3-45df-990c-e1735897b61b",
   "metadata": {},
   "outputs": [
    {
     "data": {
      "text/plain": [
       "True"
      ]
     },
     "execution_count": 100,
     "metadata": {},
     "output_type": "execute_result"
    }
   ],
   "source": [
    "0 == False"
   ]
  },
  {
   "cell_type": "code",
   "execution_count": 99,
   "id": "f9eadccb-fc69-4f57-be30-26eef214bb0a",
   "metadata": {},
   "outputs": [
    {
     "data": {
      "text/plain": [
       "True"
      ]
     },
     "execution_count": 99,
     "metadata": {},
     "output_type": "execute_result"
    }
   ],
   "source": [
    "1 == True"
   ]
  },
  {
   "cell_type": "code",
   "execution_count": 105,
   "id": "bb1540a6-7774-4211-b4f1-c98f3d143977",
   "metadata": {},
   "outputs": [
    {
     "data": {
      "text/plain": [
       "array([[0.55022103, 0.01631602, 0.67352769],\n",
       "       [0.94700342, 0.93737302, 0.21209588],\n",
       "       [0.25846805, 0.60053863, 0.16808049]])"
      ]
     },
     "execution_count": 105,
     "metadata": {},
     "output_type": "execute_result"
    }
   ],
   "source": [
    "np.random.random(size=(3, 3))"
   ]
  },
  {
   "cell_type": "code",
   "execution_count": 107,
   "id": "d5f4ca80-e5fa-4022-876e-c712d3d51151",
   "metadata": {},
   "outputs": [
    {
     "data": {
      "text/plain": [
       "array([0.        , 0.05263158, 0.10526316, 0.15789474, 0.21052632,\n",
       "       0.26315789, 0.31578947, 0.36842105, 0.42105263, 0.47368421,\n",
       "       0.52631579, 0.57894737, 0.63157895, 0.68421053, 0.73684211,\n",
       "       0.78947368, 0.84210526, 0.89473684, 0.94736842, 1.        ])"
      ]
     },
     "execution_count": 107,
     "metadata": {},
     "output_type": "execute_result"
    }
   ],
   "source": [
    "np.linspace(0, 1, 20)  # Erzeugt X Elemente zwischen zwei Werten und rechnet Abstände selbst aus"
   ]
  },
  {
   "cell_type": "code",
   "execution_count": 110,
   "id": "6e936b16-babb-438c-86d4-a94c3fbfc46d",
   "metadata": {},
   "outputs": [
    {
     "data": {
      "text/plain": [
       "array([[0.        , 0.05263158, 0.10526316, 0.15789474, 0.21052632],\n",
       "       [0.26315789, 0.31578947, 0.36842105, 0.42105263, 0.47368421],\n",
       "       [0.52631579, 0.57894737, 0.63157895, 0.68421053, 0.73684211],\n",
       "       [0.78947368, 0.84210526, 0.89473684, 0.94736842, 1.        ]])"
      ]
     },
     "execution_count": 110,
     "metadata": {},
     "output_type": "execute_result"
    }
   ],
   "source": [
    "np.linspace(0, 1, 20).reshape(4, 5)"
   ]
  },
  {
   "cell_type": "code",
   "execution_count": 118,
   "id": "621a9dd5-6998-4121-8293-e97259345865",
   "metadata": {},
   "outputs": [],
   "source": [
    "h = np.arange(0, 10).reshape(10, 1)"
   ]
  },
  {
   "cell_type": "code",
   "execution_count": 117,
   "id": "3085eb8d-c04d-434c-9d77-d975cc8ed000",
   "metadata": {},
   "outputs": [],
   "source": [
    "g = np.linspace(0, 1, 20).reshape(10, 2)"
   ]
  },
  {
   "cell_type": "code",
   "execution_count": 119,
   "id": "450faa57-1d71-4416-8bee-13638534de32",
   "metadata": {},
   "outputs": [
    {
     "data": {
      "text/plain": [
       "array([[0.        , 0.05263158, 0.        ],\n",
       "       [0.10526316, 0.15789474, 1.        ],\n",
       "       [0.21052632, 0.26315789, 2.        ],\n",
       "       [0.31578947, 0.36842105, 3.        ],\n",
       "       [0.42105263, 0.47368421, 4.        ],\n",
       "       [0.52631579, 0.57894737, 5.        ],\n",
       "       [0.63157895, 0.68421053, 6.        ],\n",
       "       [0.73684211, 0.78947368, 7.        ],\n",
       "       [0.84210526, 0.89473684, 8.        ],\n",
       "       [0.94736842, 1.        , 9.        ]])"
      ]
     },
     "execution_count": 119,
     "metadata": {},
     "output_type": "execute_result"
    }
   ],
   "source": [
    "np.hstack((g, h))"
   ]
  }
 ],
 "metadata": {
  "kernelspec": {
   "display_name": "Python 3 (ipykernel)",
   "language": "python",
   "name": "python3"
  },
  "language_info": {
   "codemirror_mode": {
    "name": "ipython",
    "version": 3
   },
   "file_extension": ".py",
   "mimetype": "text/x-python",
   "name": "python",
   "nbconvert_exporter": "python",
   "pygments_lexer": "ipython3",
   "version": "3.10.6"
  }
 },
 "nbformat": 4,
 "nbformat_minor": 5
}
