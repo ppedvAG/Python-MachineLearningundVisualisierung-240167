{
 "cells": [
  {
   "cell_type": "markdown",
   "id": "10b7f757-12d3-4964-b109-03af7e06d250",
   "metadata": {},
   "source": [
    "## IPython Notebooks"
   ]
  },
  {
   "cell_type": "markdown",
   "id": "14d22731-0a00-4862-ae38-b0e3c5bd09b0",
   "metadata": {},
   "source": [
    "Funktion\n",
    "- Code schnell ausführen\n",
    "- Graphen darstellen\n",
    "- Verwendung\n",
    "    - Zellen befüllt mit Code oder Markdown\n",
    "    - Mit Shift + Enter Zelle ausführen\n",
    "    - Modi\n",
    "      - Navigationsmodus: Sich zwischen Zellen hin und her bewegen und Zellen allgemein bearbeiten (Zellen löschen, erstellen, ...)\n",
    "      - Codebearbeitungsmodus: Den Inhalt von Zellen bearbeiten und Zellen ausführen"
   ]
  },
  {
   "cell_type": "markdown",
   "id": "8f96dcf9-251f-4136-a97e-0929bafea772",
   "metadata": {},
   "source": [
    "## Typen von Zellen\n",
    "- Code Zelle: Kann Code ausführen (Zelle mit Y zu Code Zelle konvertieren)\n",
    "- Markdown Zelle: Kann keinen Code ausführen, alles wird als Text interpretiert (Zelle mit M konvertieren)"
   ]
  },
  {
   "cell_type": "markdown",
   "id": "d03bb147-4fc3-45b3-89c0-46b0519eee1f",
   "metadata": {},
   "source": [
    "## Überschriften\n",
    "### Überschrift klein\n",
    "#### Überschrift klein\n",
    "##### Überschrift klein\n",
    "###### Überschrift klein\n",
    "\n",
    "- Aufzählung\n",
    "    - Ebene 1\n",
    "      - Ebene 2\n",
    "        - Ebene 3\n",
    "       \n",
    "**Fetter Text**\n",
    "\n",
    "*Kursiv*\n",
    "\n",
    "---"
   ]
  },
  {
   "cell_type": "markdown",
   "id": "d83e747c-5137-4871-9cac-1d38d5d0b2ea",
   "metadata": {},
   "source": [
    "## Code"
   ]
  },
  {
   "cell_type": "code",
   "execution_count": 1,
   "id": "8248eeed-7325-4f44-9ca1-87a8efd80be7",
   "metadata": {},
   "outputs": [
    {
     "data": {
      "text/plain": [
       "15"
      ]
     },
     "execution_count": 1,
     "metadata": {},
     "output_type": "execute_result"
    }
   ],
   "source": [
    "x = 5\n",
    "y = 10\n",
    "x + y"
   ]
  },
  {
   "cell_type": "markdown",
   "id": "b8b6496d-0c1e-4001-ad5d-4c52117c3318",
   "metadata": {},
   "source": [
    "Code ist auch in späteren Zellen noch verfügbar (vorallem bei Import wichtig)"
   ]
  },
  {
   "cell_type": "code",
   "execution_count": 2,
   "id": "99ca26c2-0dd7-482f-85a6-4c8bee64c81c",
   "metadata": {},
   "outputs": [],
   "source": [
    "import matplotlib.pyplot as plt"
   ]
  },
  {
   "cell_type": "code",
   "execution_count": 12,
   "id": "b4215448-1602-453c-a5a6-213b8d776f21",
   "metadata": {},
   "outputs": [
    {
     "data": {
      "text/plain": [
       "[<matplotlib.lines.Line2D at 0x2a5cd6bdfc0>]"
      ]
     },
     "execution_count": 12,
     "metadata": {},
     "output_type": "execute_result"
    },
    {
     "data": {
      "image/png": "[encoded data removed]",
      "text/plain": [
       "<Figure size 640x480 with 1 Axes>"
      ]
     },
     "metadata": {},
     "output_type": "display_data"
    }
   ],
   "source": [
    "l = [1, 2, 3, 4]\n",
    "x = [10, 5, 98, 77]\n",
    "\n",
    "plt.plot(l, x)"
   ]
  },
  {
   "cell_type": "markdown",
   "id": "7bf2bc56-52b9-415e-9dbc-2fdd78d19d6c",
   "metadata": {},
   "source": [
    "## Shortcuts"
   ]
  },
  {
   "cell_type": "markdown",
   "id": "0e538814-e4ee-4ec7-bfb7-d72922d3618c",
   "metadata": {},
   "source": [
    "(Im Navigationsmodus)\n",
    "\n",
    "Pfeil Hoch/Runter: Zwischen Zellen bewegen\n",
    "\n",
    "A, B: Neue Zellen darunter/darüber einfügen\n",
    "\n",
    "D + D: Zelle löschen\n",
    "\n",
    "Z: Rückgängig\n",
    "\n",
    "M oder Y: Markdown/Code wechseln\n",
    "\n",
    "Enter: Zelle betreten\n",
    "- Shift + Enter: Zelle ausführen und verlassen\n",
    "- Strg + Enter: Zelle ausführen und nicht in die nächste Zelle springen\n",
    "- Escape: Zelle verlassen ohne Ausführung\n",
    "\n",
    "X, C, V: Cut, Copy, Paste (ohne Strg)"
   ]
  }
 ],
 "metadata": {
  "kernelspec": {
   "display_name": "Python 3 (ipykernel)",
   "language": "python",
   "name": "python3"
  },
  "language_info": {
   "codemirror_mode": {
    "name": "ipython",
    "version": 3
   },
   "file_extension": ".py",
   "mimetype": "text/x-python",
   "name": "python",
   "nbconvert_exporter": "python",
   "pygments_lexer": "ipython3",
   "version": "3.10.6"
  }
 },
 "nbformat": 4,
 "nbformat_minor": 5
}
