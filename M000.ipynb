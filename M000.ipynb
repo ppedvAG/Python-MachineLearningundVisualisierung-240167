{
 "cells": [
  {
   "cell_type": "code",
   "execution_count": 2,
   "id": "7789aef3-74b1-4c91-a94a-42ce057d7a09",
   "metadata": {},
   "outputs": [],
   "source": [
    "import numpy as np"
   ]
  },
  {
   "cell_type": "code",
   "execution_count": 3,
   "id": "8a3b67e3-a148-4208-914c-660540dbc92b",
   "metadata": {},
   "outputs": [
    {
     "data": {
      "text/plain": [
       "array([-10,  -9,  -8,  -7,  -6,  -5,  -4,  -3,  -2,  -1,   0,   1,   2,\n",
       "         3,   4,   5,   6,   7,   8,   9,  10])"
      ]
     },
     "execution_count": 3,
     "metadata": {},
     "output_type": "execute_result"
    }
   ],
   "source": [
    "np.arange(-10, 11)"
   ]
  },
  {
   "cell_type": "code",
   "execution_count": 5,
   "id": "9c36a2d3-c8ff-46a2-ab66-d4f995846a22",
   "metadata": {},
   "outputs": [
    {
     "data": {
      "text/plain": [
       "array([[ 0,  1,  2,  3,  4],\n",
       "       [ 5,  6,  7,  8,  9],\n",
       "       [10, 11, 12, 13, 14],\n",
       "       [15, 16, 17, 18, 19],\n",
       "       [20, 21, 22, 23, 24]])"
      ]
     },
     "execution_count": 5,
     "metadata": {},
     "output_type": "execute_result"
    }
   ],
   "source": [
    "np.arange(0, 25).reshape(5, 5)"
   ]
  },
  {
   "cell_type": "code",
   "execution_count": 8,
   "id": "977bd87b-a9f5-4cff-a42d-736cbed61129",
   "metadata": {},
   "outputs": [],
   "source": [
    "a = np.arange(0, 101)"
   ]
  },
  {
   "cell_type": "code",
   "execution_count": 9,
   "id": "6315f912-0eca-44f3-a3e9-926c820072bf",
   "metadata": {},
   "outputs": [
    {
     "data": {
      "text/plain": [
       "array([ 1,  3,  5,  7,  9, 11, 13, 15, 17, 19, 21, 23, 25, 27, 29, 31, 33,\n",
       "       35, 37, 39, 41, 43, 45, 47, 49, 51, 53, 55, 57, 59, 61, 63, 65, 67,\n",
       "       69, 71, 73, 75, 77, 79, 81, 83, 85, 87, 89, 91, 93, 95, 97, 99])"
      ]
     },
     "execution_count": 9,
     "metadata": {},
     "output_type": "execute_result"
    }
   ],
   "source": [
    "a[a % 2 != 0]"
   ]
  },
  {
   "cell_type": "code",
   "execution_count": 15,
   "id": "f35ae9c8-e2bb-4fd6-9332-9bdc3ad9369c",
   "metadata": {},
   "outputs": [
    {
     "data": {
      "text/plain": [
       "array([ 1,  3,  5,  7,  9, 11, 13, 15, 17, 19, 21, 23, 25, 27, 29, 31, 33,\n",
       "       35, 37, 39, 41, 43, 45, 47, 49, 51, 53, 55, 57, 59, 61, 63, 65, 67,\n",
       "       69, 71, 73, 75, 77, 79, 81, 83, 85, 87, 89, 91, 93, 95, 97, 99],\n",
       "      dtype=int8)"
      ]
     },
     "execution_count": 15,
     "metadata": {},
     "output_type": "execute_result"
    }
   ],
   "source": [
    "np.linspace(1, 99, 50, dtype=np.int8)"
   ]
  },
  {
   "cell_type": "code",
   "execution_count": 17,
   "id": "4e81fdc6-a166-476c-aeff-b5018802b09a",
   "metadata": {},
   "outputs": [
    {
     "data": {
      "text/plain": [
       "array([ 0. ,  0.1,  0.2,  0.3,  0.4,  0.5,  0.6,  0.7,  0.8,  0.9,  1. ,\n",
       "        1.1,  1.2,  1.3,  1.4,  1.5,  1.6,  1.7,  1.8,  1.9,  2. ,  2.1,\n",
       "        2.2,  2.3,  2.4,  2.5,  2.6,  2.7,  2.8,  2.9,  3. ,  3.1,  3.2,\n",
       "        3.3,  3.4,  3.5,  3.6,  3.7,  3.8,  3.9,  4. ,  4.1,  4.2,  4.3,\n",
       "        4.4,  4.5,  4.6,  4.7,  4.8,  4.9,  5. ,  5.1,  5.2,  5.3,  5.4,\n",
       "        5.5,  5.6,  5.7,  5.8,  5.9,  6. ,  6.1,  6.2,  6.3,  6.4,  6.5,\n",
       "        6.6,  6.7,  6.8,  6.9,  7. ,  7.1,  7.2,  7.3,  7.4,  7.5,  7.6,\n",
       "        7.7,  7.8,  7.9,  8. ,  8.1,  8.2,  8.3,  8.4,  8.5,  8.6,  8.7,\n",
       "        8.8,  8.9,  9. ,  9.1,  9.2,  9.3,  9.4,  9.5,  9.6,  9.7,  9.8,\n",
       "        9.9, 10. ])"
      ]
     },
     "execution_count": 17,
     "metadata": {},
     "output_type": "execute_result"
    }
   ],
   "source": [
    "np.arange(0, 10.1, 0.1)"
   ]
  },
  {
   "cell_type": "code",
   "execution_count": 18,
   "id": "7d8d843e-1942-438b-b599-d2ad318d554f",
   "metadata": {},
   "outputs": [
    {
     "data": {
      "text/plain": [
       "3725"
      ]
     },
     "execution_count": 18,
     "metadata": {},
     "output_type": "execute_result"
    }
   ],
   "source": [
    "np.arange(50, 100).sum()"
   ]
  },
  {
   "cell_type": "code",
   "execution_count": 19,
   "id": "8f86173c-1d94-4f6c-bb75-8c8170286d81",
   "metadata": {},
   "outputs": [
    {
     "data": {
      "text/plain": [
       "array([32.6, 22.7, 35.5, 31.2, 24.2])"
      ]
     },
     "execution_count": 19,
     "metadata": {},
     "output_type": "execute_result"
    }
   ],
   "source": [
    "np.random.randint(50, size=(5, 10)).mean(axis=1)"
   ]
  },
  {
   "cell_type": "code",
   "execution_count": 20,
   "id": "9f44c183-c614-4180-9956-a10114385e09",
   "metadata": {},
   "outputs": [
    {
     "data": {
      "text/plain": [
       "array([103, 122, 134,  94, 115, 120, 110, 129,  65, 157])"
      ]
     },
     "execution_count": 20,
     "metadata": {},
     "output_type": "execute_result"
    }
   ],
   "source": [
    "np.random.randint(50, size=(5, 10)).sum(axis=0)"
   ]
  },
  {
   "cell_type": "code",
   "execution_count": 24,
   "id": "39390314-c336-486f-a049-8fadceb72274",
   "metadata": {},
   "outputs": [],
   "source": [
    "b = np.random.random(10)"
   ]
  },
  {
   "cell_type": "code",
   "execution_count": 25,
   "id": "252c9aed-671a-4404-b60e-d16bbac2ef0c",
   "metadata": {},
   "outputs": [
    {
     "data": {
      "text/plain": [
       "array([0.98000511, 0.89008388, 0.89646349, 0.86917378, 0.94151445,\n",
       "       0.5235654 ])"
      ]
     },
     "execution_count": 25,
     "metadata": {},
     "output_type": "execute_result"
    }
   ],
   "source": [
    "b[b > 0.5]"
   ]
  },
  {
   "cell_type": "code",
   "execution_count": 32,
   "id": "6ea78341-4817-4d08-823c-6de0b62cc53e",
   "metadata": {},
   "outputs": [
    {
     "data": {
      "text/plain": [
       "array([  1,   4,   9,  16,  25,  36,  49,  64,  81, 100, 121, 144, 169,\n",
       "       196, 225, 256, 289, 324, 361, 400])"
      ]
     },
     "execution_count": 32,
     "metadata": {},
     "output_type": "execute_result"
    }
   ],
   "source": [
    "hoch2 = np.arange(1, 21) ** 2\n",
    "hoch2"
   ]
  },
  {
   "cell_type": "code",
   "execution_count": 36,
   "id": "e99f0c58-171d-424d-9210-d238bd397eb5",
   "metadata": {},
   "outputs": [
    {
     "data": {
      "text/plain": [
       "array([  4,  16,  36,  64, 100, 144, 196, 256, 324, 400])"
      ]
     },
     "execution_count": 36,
     "metadata": {},
     "output_type": "execute_result"
    }
   ],
   "source": [
    "hoch2[hoch2 % 2 == 0]"
   ]
  },
  {
   "cell_type": "code",
   "execution_count": 40,
   "id": "9fdc52c7-11fd-4f95-a65b-b6a9195014f4",
   "metadata": {},
   "outputs": [],
   "source": [
    "r = np.random.randint(100, size=(100))"
   ]
  },
  {
   "cell_type": "code",
   "execution_count": 41,
   "id": "6a65f0c6-812c-45b4-9aa2-f3c0757e43be",
   "metadata": {},
   "outputs": [
    {
     "data": {
      "text/plain": [
       "array([11, 80, 36, 94,  8, 24,  7, 14, 32,  0, 80, 67, 11,  0, 59, 48, 46,\n",
       "       59, 20, 65, 73, 43, 96, 77, 36, 74, 34, 90, 57, 71, 91,  0, 53, 91,\n",
       "       21, 55, 25, 96, 33, 75, 25, 10, 32, 77, 79, 87, 76,  2, 65, 32, 29,\n",
       "       55, 81, 92, 24, 73, 72, 19,  2, 39, 46, 65,  6, 85, 50, 28, 43, 98,\n",
       "       75, 27,  3, 69, 75, 21, 68, 46, 24, 99, 56, 42, 32, 55, 66,  6, 80,\n",
       "       42, 52, 20, 58, 21, 40, 78, 41, 89,  4, 73, 11, 48, 72, 80])"
      ]
     },
     "execution_count": 41,
     "metadata": {},
     "output_type": "execute_result"
    }
   ],
   "source": [
    "r"
   ]
  },
  {
   "cell_type": "code",
   "execution_count": 48,
   "id": "d9f8f8fb-fe2c-46b7-a21e-0dde39d52a34",
   "metadata": {},
   "outputs": [],
   "source": [
    "r_max = r.max() * 0.8"
   ]
  },
  {
   "cell_type": "code",
   "execution_count": 49,
   "id": "704c3a9f-34ce-4cd8-a31f-1b2223465412",
   "metadata": {},
   "outputs": [
    {
     "data": {
      "text/plain": [
       "79.2"
      ]
     },
     "execution_count": 49,
     "metadata": {},
     "output_type": "execute_result"
    }
   ],
   "source": [
    "r_max"
   ]
  },
  {
   "cell_type": "code",
   "execution_count": 50,
   "id": "c5d78eac-8a8b-47cb-86d7-40878be7997f",
   "metadata": {},
   "outputs": [
    {
     "data": {
      "text/plain": [
       "array([11, 36,  8, 24,  7, 14, 32,  0, 67, 11,  0, 59, 48, 46, 59, 20, 65,\n",
       "       73, 43, 77, 36, 74, 34, 57, 71,  0, 53, 21, 55, 25, 33, 75, 25, 10,\n",
       "       32, 77, 79, 76,  2, 65, 32, 29, 55, 24, 73, 72, 19,  2, 39, 46, 65,\n",
       "        6, 50, 28, 43, 75, 27,  3, 69, 75, 21, 68, 46, 24, 56, 42, 32, 55,\n",
       "       66,  6, 42, 52, 20, 58, 21, 40, 78, 41,  4, 73, 11, 48, 72])"
      ]
     },
     "execution_count": 50,
     "metadata": {},
     "output_type": "execute_result"
    }
   ],
   "source": [
    "r[r < r_max]"
   ]
  },
  {
   "cell_type": "code",
   "execution_count": 53,
   "id": "7eadd941-0580-4c9f-8a95-7cbbe6e081bf",
   "metadata": {},
   "outputs": [],
   "source": [
    " z = np.random.randint(11, size=(10, 10))"
   ]
  },
  {
   "cell_type": "code",
   "execution_count": 55,
   "id": "ef28f0d2-78bd-49c2-b7ed-d27768de3b32",
   "metadata": {},
   "outputs": [
    {
     "data": {
      "text/plain": [
       "array([False,  True,  True,  True,  True, False, False, False,  True,\n",
       "       False])"
      ]
     },
     "execution_count": 55,
     "metadata": {},
     "output_type": "execute_result"
    }
   ],
   "source": [
    "z.mean(axis=1) > 5"
   ]
  },
  {
   "cell_type": "code",
   "execution_count": 72,
   "id": "779995e1-b667-40e1-82fd-9303fb4290c3",
   "metadata": {},
   "outputs": [],
   "source": [
    "x = np.random.randint(10, size=(50))"
   ]
  },
  {
   "cell_type": "code",
   "execution_count": 73,
   "id": "d3fa181f-04b2-4ac4-9796-b6db21e6882f",
   "metadata": {},
   "outputs": [],
   "source": [
    "y = np.random.randint(10, size=(50))"
   ]
  },
  {
   "cell_type": "code",
   "execution_count": 74,
   "id": "74a70423-62e8-4dc2-bd7f-4066e275f418",
   "metadata": {},
   "outputs": [
    {
     "data": {
      "text/plain": [
       "array([False, False, False, False, False, False, False, False, False,\n",
       "       False, False, False,  True, False,  True, False, False, False,\n",
       "       False, False, False,  True, False, False, False, False, False,\n",
       "       False, False, False, False, False, False,  True, False, False,\n",
       "       False, False, False, False, False, False, False, False,  True,\n",
       "       False, False, False, False, False])"
      ]
     },
     "execution_count": 74,
     "metadata": {},
     "output_type": "execute_result"
    }
   ],
   "source": [
    "x - y == 0"
   ]
  },
  {
   "cell_type": "code",
   "execution_count": 75,
   "id": "9537e690-19f2-469b-a616-119b2ef8164c",
   "metadata": {},
   "outputs": [
    {
     "data": {
      "text/plain": [
       "array([7, 3, 6, 8, 1])"
      ]
     },
     "execution_count": 75,
     "metadata": {},
     "output_type": "execute_result"
    }
   ],
   "source": [
    "x[x - y == 0]"
   ]
  },
  {
   "cell_type": "code",
   "execution_count": 76,
   "id": "3e9bc455-7977-42a8-bc5e-955367a95f85",
   "metadata": {},
   "outputs": [
    {
     "name": "stdout",
     "output_type": "stream",
     "text": [
      "[7 0 0 6 5 7 5 5 8 2 5 0 7 1 3 4 2 5 4 2 2 6 5 1 0 3 2 2 2 1 0 3 8 8 0 6 5\n",
      " 2 0 7 8 6 9 9 1 9 2 4 5 0]\n",
      "[0 6 7 8 1 0 9 2 1 7 1 5 7 5 3 1 3 8 2 6 6 6 2 8 3 8 4 8 3 2 4 9 6 8 2 0 0\n",
      " 0 1 4 7 1 3 5 1 8 7 0 8 8]\n"
     ]
    }
   ],
   "source": [
    "print(x)\n",
    "print(y)"
   ]
  },
  {
   "cell_type": "code",
   "execution_count": 77,
   "id": "461c3747-c652-4c57-83c1-1c18fded7c10",
   "metadata": {},
   "outputs": [
    {
     "data": {
      "text/plain": [
       "array([False, False, False, False, False, False, False, False, False,\n",
       "       False, False, False,  True, False,  True, False, False, False,\n",
       "       False, False, False,  True, False, False, False, False, False,\n",
       "       False, False, False, False, False, False,  True, False, False,\n",
       "       False, False, False, False, False, False, False, False,  True,\n",
       "       False, False, False, False, False])"
      ]
     },
     "execution_count": 77,
     "metadata": {},
     "output_type": "execute_result"
    }
   ],
   "source": [
    "x == y"
   ]
  },
  {
   "cell_type": "code",
   "execution_count": 78,
   "id": "e719a644-7fed-4732-9d2f-71798e3bffa0",
   "metadata": {},
   "outputs": [
    {
     "data": {
      "text/plain": [
       "array([7, 3, 6, 8, 1])"
      ]
     },
     "execution_count": 78,
     "metadata": {},
     "output_type": "execute_result"
    }
   ],
   "source": [
    "x[x == y]"
   ]
  }
 ],
 "metadata": {
  "kernelspec": {
   "display_name": "Python 3 (ipykernel)",
   "language": "python",
   "name": "python3"
  },
  "language_info": {
   "codemirror_mode": {
    "name": "ipython",
    "version": 3
   },
   "file_extension": ".py",
   "mimetype": "text/x-python",
   "name": "python",
   "nbconvert_exporter": "python",
   "pygments_lexer": "ipython3",
   "version": "3.10.6"
  }
 },
 "nbformat": 4,
 "nbformat_minor": 5
}
